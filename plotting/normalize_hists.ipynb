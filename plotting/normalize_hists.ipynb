{
 "cells": [
  {
   "cell_type": "code",
   "execution_count": null,
   "id": "c27784e0-b9b1-4313-9c9a-a8b314fe66af",
   "metadata": {},
   "outputs": [],
   "source": [
    "import uproot\n",
    "import numpy as np\n",
    "import matplotlib\n",
    "import matplotlib.pyplot as plt\n",
    "import seaborn as sns\n",
    "import matplotlib.patches as mpatches"
   ]
  },
  {
   "cell_type": "code",
   "execution_count": null,
   "id": "efaf354b-b1f0-409e-a563-b3dbb52d780b",
   "metadata": {},
   "outputs": [],
   "source": [
    "fontsize = 28"
   ]
  },
  {
   "cell_type": "code",
   "execution_count": null,
   "id": "280318ed-12dd-4b46-a2e3-ddc8eb19cea1",
   "metadata": {},
   "outputs": [],
   "source": [
    "def getHist(file, key):\n",
    "    f = uproot.open(file)\n",
    "    hist = f[key]\n",
    "    return hist.to_numpy()"
   ]
  },
  {
   "cell_type": "code",
   "execution_count": null,
   "id": "4df0f141-0494-4466-bf5c-b0071adcf6be",
   "metadata": {},
   "outputs": [],
   "source": [
    "def normalizeVals(values):\n",
    "    integral = np.sum(values)\n",
    "    if integral != 0:\n",
    "        normalized_values = values / integral  # Normalize to unit area\n",
    "        print(f\"Normalized Integral: {np.sum(normalized_values)}\")\n",
    "        return normalized_values\n",
    "    else:\n",
    "        print(\"Histogram has zero integral and cannot be normalized.\")\n",
    "    "
   ]
  },
  {
   "cell_type": "code",
   "execution_count": null,
   "id": "27790f68-7c50-42e0-87e4-e433a43c8012",
   "metadata": {},
   "outputs": [],
   "source": [
    "def plotHist(edges, values, name, hatch):\n",
    "    # Compute bin centers for consistent alignment\n",
    "    bin_centers = (edges[:-1] + edges[1:]) / 2  \n",
    "\n",
    "    # Plot filled bars with transparency (alpha)\n",
    "    bars = plt.bar(bin_centers, values, width=np.diff(edges), align='center', \n",
    "                   edgecolor='black', alpha=0.3, label=name, hatch=hatch)\n",
    "\n",
    "    # Get the color from the bars (first bar color)\n",
    "    bar_color = bars.patches[0].get_facecolor()\n",
    "\n",
    "    # Plot the step line using the same color (without alpha)\n",
    "    plt.step(bin_centers, values, where='mid', color=bar_color, linewidth=4.0)\n",
    "    return bars"
   ]
  },
  {
   "cell_type": "code",
   "execution_count": null,
   "id": "eff42206-3b20-4ec1-8566-5ea6c35657f4",
   "metadata": {},
   "outputs": [],
   "source": [
    "def weighted_stats(values, weights):\n",
    "    weighted_mean = np.sum(weights * values) / np.sum(weights)\n",
    "    weighted_variance = np.sum(weights * (values - weighted_mean) ** 2) / np.sum(weights)\n",
    "    weighted_std = np.sqrt(weighted_variance)\n",
    "    return weighted_mean, weighted_std"
   ]
  },
  {
   "cell_type": "code",
   "execution_count": null,
   "id": "25207e08-8e28-4c30-b3bf-5b365f3932e5",
   "metadata": {},
   "outputs": [],
   "source": [
    "def doIt(histKey, inputs, output, fontsize=fontsize, **kwargs):\n",
    "    # Set global font sizes for all plot elements\n",
    "    plt.rcParams.update({\n",
    "        'font.size': fontsize,             # Base font size\n",
    "        'axes.titlesize': fontsize,        # Title size\n",
    "        'axes.labelsize': fontsize,        # X/Y label size\n",
    "        'xtick.labelsize': fontsize,       # X tick label size\n",
    "        'ytick.labelsize': fontsize,       # Y tick label size\n",
    "        'legend.fontsize': fontsize,       # Legend text size\n",
    "        'legend.title_fontsize': fontsize  # Legend title size\n",
    "    })\n",
    "\n",
    "    hatches = ['/', '\\\\', '|', '-']  # Hatch styles for each bar\n",
    "\n",
    "    plt.figure(figsize=(16, 9))\n",
    "    files = inputs[0]\n",
    "    names = inputs[1]\n",
    "    handles = []  # For custom legend entries\n",
    "\n",
    "    for i, file in enumerate(files):\n",
    "        values, edges = getHist(file, histKey)\n",
    "        bin_centers = (edges[:-1] + edges[1:]) / 2\n",
    "        mean, std = weighted_stats(bin_centers, values)\n",
    "        xlim = kwargs.get('xlim', None)\n",
    "        if xlim:        \n",
    "            # if a xlim is specified we want to compute stats only for this limit\n",
    "            mask = np.bitwise_and(bin_centers < xlim[1], bin_centers > xlim[0])\n",
    "            mean, std = weighted_stats(bin_centers[mask], values[mask])\n",
    "        normalized_values = normalizeVals(values)\n",
    "        \n",
    "        # Plot histogram and get color\n",
    "        \n",
    "        bars = plotHist(edges, normalized_values, names[i], None)\n",
    "        bar_color = bars.patches[0].get_facecolor()[:3]  # RGB tuple (ignore alpha)\n",
    "        \n",
    "        # Convert RGB to RGBA with alpha of 0.5\n",
    "        rgba_color = matplotlib.colors.to_rgba(bar_color, alpha=0.3)\n",
    "\n",
    "        if kwargs.get('stats', True):\n",
    "            # Create a custom legend label with stats\n",
    "            label_with_stats = f'{names[i]}: {mean:.2f} ± {std:.2f}'\n",
    "        else:\n",
    "            label_with_stats = f'{names[i]}'\n",
    "        \n",
    "        # Create a custom legend handle with color and label\n",
    "        patch = mpatches.Patch(color=rgba_color, label=label_with_stats)\n",
    "        handles.append(patch)\n",
    "\n",
    "    # Create legend with custom handles and labels\n",
    "    plt.legend(handles=handles, loc='upper right')\n",
    "\n",
    "    # Plot settings\n",
    "    plt.title(kwargs.get('title', 'Comparison normalized ToT'))\n",
    "    plt.xlim(kwargs.get('xlim', None))\n",
    "    plt.xlabel(kwargs.get('xlabel', 'ToT (LSB)'))\n",
    "    plt.ylabel(kwargs.get('ylabel', 'Normalized Counts'))\n",
    "    plt.grid()\n",
    "    plt.savefig(output)\n",
    "    plt.show()\n"
   ]
  },
  {
   "cell_type": "code",
   "execution_count": null,
   "id": "5dfa90b8-a35c-430c-8f40-dfa76f536245",
   "metadata": {},
   "outputs": [],
   "source": [
    "files = ['/home/bernhard/diss/mpw4/tb/desy_apr24/analysis/harmonized/V-W3/thr/run000217_thr200mV_bias190V.root','1E14Backside/std/run000058_hv-190_vnfbnan.root', '3E14Backside/std/run000293_hv-190_vnfbnan.root', '1E15/std/run000176_hv-190_vnfbnan.root']\n",
    "# files = [\n",
    "#     '1E15/std/run000176_hv-190_vnfbnan.root',  # Red in the back\n",
    "#     '/home/bernhard/diss/mpw4/tb/desy_apr24/analysis/harmonized/V-W3/thr/run000217_thr200mV_bias190V.root',\n",
    "#     '1E14Backside/std/run000058_hv-190_vnfbnan.root',\n",
    "#     '3E14Backside/std/run000293_hv-190_vnfbnan.root'\n",
    "# ]\n",
    "names = ['0E00', '1E14', '3E14', '1E15']\n",
    "# names = ['1E15', '3E14', '1E14', '0E00']\n",
    "histKey = 'ClusteringSpatial/RD50_MPWx_0/clusterSize'\n",
    "\n",
    "doIt(histKey, (files, names), 'comp_clustersize.png', title='Comparison Clustersize', xlabel='Cluster size', ylabel='Normalized Counts', xlim=(0,6))"
   ]
  },
  {
   "cell_type": "code",
   "execution_count": null,
   "id": "1bab66bc-2add-4e20-9f63-268137437b76",
   "metadata": {},
   "outputs": [],
   "source": [
    "histKey = 'EventLoaderEUDAQ2/RD50_MPWx_0/hPixelRawValues'\n",
    "doIt(histKey, (files, names), 'comp_tot.png', title='Comparison normalized ToT', xlabel='ToT (LSB)', ylabel='Normalized Counts', xlim=(0,35))"
   ]
  },
  {
   "cell_type": "code",
   "execution_count": null,
   "id": "64506786-226b-4f36-bc29-47a1762bd54a",
   "metadata": {},
   "outputs": [],
   "source": [
    "histKey = 'AnalysisDUT/RD50_MPWx_0/local_residuals/residualsX'\n",
    "doIt(histKey, (files, names), 'comp_resX.png', title='Comparison Residuals X', xlabel='$x_{Track} - x_{DUT} [\\\\mu m]$', ylabel='Normalized Counts', xlim=(-110, 110), stats=False)"
   ]
  },
  {
   "cell_type": "code",
   "execution_count": null,
   "id": "18a786fd-e1f8-44d3-a89a-10cf451fcc50",
   "metadata": {},
   "outputs": [],
   "source": [
    "histKey = 'AnalysisDUT/RD50_MPWx_0/residualsTime'\n",
    "files = ['1E14Backside/std/run000058_hv-190_vnfbnan.root', '3E14Backside/std/run000293_hv-190_vnfbnan.root', '1E15/std/run000176_hv-190_vnfbnan.root']\n",
    "doIt(histKey, (files, names), 'comp_resT.png', title='Comparison Timing Residuals', xlabel='$t_{Track} - t_{Hit} [ns]$', ylabel='Normalized Counts', xlim=(-1000, 1000), stats=False)"
   ]
  },
  {
   "cell_type": "code",
   "execution_count": null,
   "id": "810a6a04-06c3-4e54-8bab-0f96a1499588",
   "metadata": {},
   "outputs": [],
   "source": [
    "histKey = 'EventLoaderEUDAQ2/RD50_MPWx_0/hPixelRawValues'\n",
    "files = ['/home/bernhard/cernbox/Diss/mpw4/lab/irradiated/large_tot/w3-0e0.root', '/home/bernhard/cernbox/Diss/mpw4/lab/irradiated/large_tot/w3-1e14.root']\n",
    "doIt(histKey, (files, names), '/home/bernhard/cernbox/Diss/mpw4/lab/irradiated/large_tot/comp_tot.png', title='Comparison ToT', xlabel='ToT [LSB]', ylabel='Normalized Counts', xlim=(0,30))"
   ]
  },
  {
   "cell_type": "code",
   "execution_count": null,
   "id": "5a3eaa89-3d97-46f7-b4e5-4e3e67a98ba5",
   "metadata": {},
   "outputs": [],
   "source": []
  }
 ],
 "metadata": {
  "kernelspec": {
   "display_name": "Python 3 (ipykernel)",
   "language": "python",
   "name": "python3"
  },
  "language_info": {
   "codemirror_mode": {
    "name": "ipython",
    "version": 3
   },
   "file_extension": ".py",
   "mimetype": "text/x-python",
   "name": "python",
   "nbconvert_exporter": "python",
   "pygments_lexer": "ipython3",
   "version": "3.12.7"
  }
 },
 "nbformat": 4,
 "nbformat_minor": 5
}
