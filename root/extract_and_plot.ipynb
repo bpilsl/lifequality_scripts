{
 "cells": [
  {
   "cell_type": "code",
   "execution_count": null,
   "id": "cd598aaf-9bd7-4d47-a55a-3df9879599b8",
   "metadata": {},
   "outputs": [],
   "source": [
    "import uproot\n",
    "import pandas as pd\n",
    "import glob\n",
    "import numpy as np\n",
    "import matplotlib.pyplot as plt\n",
    "import hist\n",
    "\n",
    "# Define a list of ROOT files to open\n",
    "root_file_list = glob.glob('/home/bernhard/hephy/mpw3/data/testbeam/desy_jul23/corry_desy/e_scans/*1311*.root')\n",
    "\n",
    "# Define a list of keys (TKeys) to extract data from\n",
    "#efficiency not working properly, TEfficiency sucks\n",
    "keys_to_extract = [\"EventLoaderEUDAQ2/RD50_MPW3_base_0/hPixelRawValues\",\n",
    "        \"ClusteringSpatial/RD50_MPW3_base_0/clusterSize\",\n",
    "        \"AnalysisDUT/RD50_MPW3_base_0/local_residuals/residualsX\"]\n",
    "\n",
    "root_file_list\n",
    "\n",
    "\n"
   ]
  },
  {
   "cell_type": "code",
   "execution_count": null,
   "id": "c79b9c99-183e-43ef-8792-3b0bd35b32e8",
   "metadata": {},
   "outputs": [],
   "source": [
    "# Create an empty DataFrame to store the results\n",
    "# results_df = pd.DataFrame(columns=[\"File\", \"Key\", \"Mean\", \"StdDev\"])\n",
    "results = {\"File\" : [], \"Key\" : [], \"Mean\" : [], \"StdDev\": [], \"StdErr\" : [], \"N\" :[] }\n",
    "\n",
    "# Loop over each ROOT file\n",
    "for root_file in root_file_list:\n",
    "    # Open the ROOT file using uproot\n",
    "    with uproot.open(root_file) as file:\n",
    "        # Loop over each key to extract data\n",
    "        for key_name in keys_to_extract:\n",
    "            try:\n",
    "                # Access the TKey using the key name\n",
    "                tkey = file[key_name]\n",
    "                mean_val = 0\n",
    "                std_dev_val = 0\n",
    "                N = 0\n",
    "                # Check if the TKey points to a TH1F histogram\n",
    "                if isinstance(tkey, uproot.uproot.behaviors.TH1.TH1):\n",
    "                    hist_data = tkey.to_hist()\n",
    "                    hist_np = tkey.to_numpy() # [0] ... bins, [1] ... weights\n",
    "                    hist_data.plot()\n",
    "                    plt.show()\n",
    "                    unjagged_bins = (hist_np[1][:-1] + hist_np[1][1:]) / 2\n",
    "                    N = np.sum(hist_np[0])\n",
    "                    mean_val = np.sum(hist_np[0] * unjagged_bins) / N\n",
    "                    print('mean = ', mean_val)                    \n",
    "                    std_dev_val = np.sqrt(np.sum((hist_np[0] * (unjagged_bins - mean_val)**2)) / N)\n",
    "                    print('std', std_dev_val)\n",
    "                else:\n",
    "                    continue\n",
    "\n",
    "            \n",
    "\n",
    "                results[\"Mean\"].append(mean_val)\n",
    "                results['StdDev'].append(std_dev_val)\n",
    "                results['File'].append(root_file)\n",
    "                results['Key'].append(key_name)\n",
    "                results[\"N\"].append(N)\n",
    "                results[\"StdErr\"].append(std_dev_val / np.sqrt(N))\n",
    "\n",
    "            except KeyError:\n",
    "                print(f\"Key '{key_name}' not found in file '{root_file}'\")\n",
    "\n",
    "df = pd.DataFrame(results)\n",
    "df"
   ]
  },
  {
   "cell_type": "code",
   "execution_count": null,
   "id": "15c52d95-442a-47ee-9347-8a64a605778f",
   "metadata": {},
   "outputs": [],
   "source": []
  }
 ],
 "metadata": {
  "kernelspec": {
   "display_name": "Python 3 (ipykernel)",
   "language": "python",
   "name": "python3"
  },
  "language_info": {
   "codemirror_mode": {
    "name": "ipython",
    "version": 3
   },
   "file_extension": ".py",
   "mimetype": "text/x-python",
   "name": "python",
   "nbconvert_exporter": "python",
   "pygments_lexer": "ipython3",
   "version": "3.10.12"
  }
 },
 "nbformat": 4,
 "nbformat_minor": 5
}
